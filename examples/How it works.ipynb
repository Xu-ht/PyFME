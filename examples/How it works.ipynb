{
 "cells": [
  {
   "cell_type": "markdown",
   "metadata": {},
   "source": [
    "# Python Flight Mechanics Engine "
   ]
  },
  {
   "cell_type": "markdown",
   "metadata": {},
   "source": [
    "This installs `pyfme` to be run in this online notebook"
   ]
  },
  {
   "cell_type": "code",
   "execution_count": 65,
   "metadata": {},
   "outputs": [],
   "source": [
    "#!pip install git+https://github.com/AeroPython/PyFME.git"
   ]
  },
  {
   "cell_type": "markdown",
   "metadata": {},
   "source": [
    "## Aircraft "
   ]
  },
  {
   "cell_type": "markdown",
   "metadata": {},
   "source": [
    "In order to perform a simulation, the first thing we need is an aircraft:"
   ]
  },
  {
   "cell_type": "code",
   "execution_count": 66,
   "metadata": {},
   "outputs": [],
   "source": [
    "from pyfme.aircrafts import Cessna172"
   ]
  },
  {
   "cell_type": "code",
   "execution_count": 67,
   "metadata": {},
   "outputs": [],
   "source": [
    "aircraft = Cessna172()"
   ]
  },
  {
   "cell_type": "markdown",
   "metadata": {},
   "source": [
    "Aircraft will provide the simulator the forces, moments and inertial properties in order to perform the integration of the dynamic system equations:"
   ]
  },
  {
   "cell_type": "code",
   "execution_count": 68,
   "metadata": {},
   "outputs": [
    {
     "name": "stdout",
     "output_type": "stream",
     "text": [
      "Aircraft mass: 1043.2616 kg\n",
      "Aircraft inertia tensor: \n",
      " [[1285.3154166     0.            0.        ]\n",
      " [   0.         1824.9309607     0.        ]\n",
      " [   0.            0.         2666.89390765]] kg/m²\n"
     ]
    }
   ],
   "source": [
    "print(f\"Aircraft mass: {aircraft.mass} kg\")\n",
    "print(f\"Aircraft inertia tensor: \\n {aircraft.inertia} kg/m²\")"
   ]
  },
  {
   "cell_type": "code",
   "execution_count": 69,
   "metadata": {},
   "outputs": [
    {
     "name": "stdout",
     "output_type": "stream",
     "text": [
      "forces: [0. 0. 0.] N\n",
      "moments: [0. 0. 0.] N·m\n"
     ]
    }
   ],
   "source": [
    "print(f\"forces: {aircraft.total_forces} N\")\n",
    "print(f\"moments: {aircraft.total_moments} N·m\")"
   ]
  },
  {
   "cell_type": "markdown",
   "metadata": {},
   "source": [
    "For the aircraft, in order to calculate its forces and moments it is necessary to set the controls values within the limits: "
   ]
  },
  {
   "cell_type": "code",
   "execution_count": 70,
   "metadata": {},
   "outputs": [
    {
     "name": "stdout",
     "output_type": "stream",
     "text": [
      "{'delta_elevator': 0, 'delta_aileron': 0, 'delta_rudder': 0, 'delta_t': 0}\n"
     ]
    }
   ],
   "source": [
    "print(aircraft.controls)"
   ]
  },
  {
   "cell_type": "code",
   "execution_count": 71,
   "metadata": {},
   "outputs": [
    {
     "name": "stdout",
     "output_type": "stream",
     "text": [
      "{'delta_elevator': (-0.4537856055185257, 0.4886921905584123), 'delta_aileron': (-0.2617993877991494, 0.3490658503988659), 'delta_rudder': (-0.2792526803190927, 0.2792526803190927), 'delta_t': (0, 1)}\n"
     ]
    }
   ],
   "source": [
    "print(aircraft.control_limits)"
   ]
  },
  {
   "cell_type": "markdown",
   "metadata": {},
   "source": [
    "but also to provide and environment (ie. atmosphere, winds, gravity) and the aircraft state, which will also determine the aerodynamic contribution."
   ]
  },
  {
   "cell_type": "markdown",
   "metadata": {},
   "source": [
    "## Environment "
   ]
  },
  {
   "cell_type": "code",
   "execution_count": 72,
   "metadata": {},
   "outputs": [],
   "source": [
    "from pyfme.environment.atmosphere import ISA1976\n",
    "from pyfme.environment.wind import NoWind\n",
    "from pyfme.environment.gravity import VerticalConstant"
   ]
  },
  {
   "cell_type": "code",
   "execution_count": 73,
   "metadata": {},
   "outputs": [],
   "source": [
    "atmosphere = ISA1976()\n",
    "gravity = VerticalConstant()\n",
    "wind = NoWind()"
   ]
  },
  {
   "cell_type": "markdown",
   "metadata": {},
   "source": [
    "The atmosphere, wind and gravity model make up the environment:"
   ]
  },
  {
   "cell_type": "code",
   "execution_count": 74,
   "metadata": {},
   "outputs": [],
   "source": [
    "from pyfme.environment import Environment"
   ]
  },
  {
   "cell_type": "code",
   "execution_count": 75,
   "metadata": {},
   "outputs": [],
   "source": [
    "environment = Environment(atmosphere, gravity, wind)"
   ]
  },
  {
   "cell_type": "markdown",
   "metadata": {},
   "source": [
    "The environment has an update method which given the state (ie. position, altitude...) updates the environment variables (ie. density, wind magnitude, gravity force...)"
   ]
  },
  {
   "cell_type": "code",
   "execution_count": 76,
   "metadata": {},
   "outputs": [
    {
     "name": "stdout",
     "output_type": "stream",
     "text": [
      "Help on method update in module pyfme.environment.environment:\n",
      "\n",
      "update(state) method of pyfme.environment.environment.Environment instance\n",
      "\n"
     ]
    }
   ],
   "source": [
    "help(environment.update)"
   ]
  },
  {
   "cell_type": "markdown",
   "metadata": {},
   "source": [
    "## State "
   ]
  },
  {
   "cell_type": "markdown",
   "metadata": {},
   "source": [
    "Even if the state can be set manually by giving the position, attitude, velocity, angular velocities... Most of the times, the user will want to trim the aircraft in a stationary condition. The aircraft controls to flight in that condition will be also provided by the trimmer."
   ]
  },
  {
   "cell_type": "code",
   "execution_count": 77,
   "metadata": {},
   "outputs": [],
   "source": [
    "from pyfme.utils.trimmer import steady_state_trim"
   ]
  },
  {
   "cell_type": "code",
   "execution_count": 78,
   "metadata": {
    "scrolled": true
   },
   "outputs": [
    {
     "name": "stdout",
     "output_type": "stream",
     "text": [
      "Help on function steady_state_trim in module pyfme.utils.trimmer:\n",
      "\n",
      "steady_state_trim(aircraft, environment, pos, psi, TAS, controls, gamma=0, turn_rate=0, exclude=None, verbose=0)\n",
      "    Finds a combination of values of the state and control variables\n",
      "    that correspond to a steady-state flight condition.\n",
      "    \n",
      "    Steady-state aircraft flight is defined as a condition in which all\n",
      "    of the motion variables are constant or zero. That is, the linear and\n",
      "    angular velocity components are constant (or zero), thus all\n",
      "     acceleration components are zero.\n",
      "    \n",
      "    Parameters\n",
      "    ----------\n",
      "    aircraft : Aircraft\n",
      "        Aircraft to be trimmed.\n",
      "    environment : Environment\n",
      "        Environment where the aircraft is trimmed including atmosphere,\n",
      "        gravity and wind.\n",
      "    pos : Position\n",
      "        Initial position of the aircraft.\n",
      "    psi : float, opt\n",
      "        Initial yaw angle (rad).\n",
      "    TAS : float\n",
      "        True Air Speed (m/s).\n",
      "    controls : dict\n",
      "        Initial value guess for each control or fixed value if control is\n",
      "        included in exclude.\n",
      "    gamma : float, optional\n",
      "        Flight path angle (rad).\n",
      "    turn_rate : float, optional\n",
      "        Turn rate, d(psi)/dt (rad/s).\n",
      "    exclude : list, optional\n",
      "        List with controls not to be trimmed. If not given, every control\n",
      "        is considered in the trim process.\n",
      "    verbose : {0, 1, 2}, optional\n",
      "        Level of least_squares verbosity:\n",
      "            * 0 (default) : work silently.\n",
      "            * 1 : display a termination report.\n",
      "            * 2 : display progress during iterations (not supported by 'lm'\n",
      "              method).\n",
      "    \n",
      "    Returns\n",
      "    -------\n",
      "    state : AircraftState\n",
      "        Trimmed aircraft state.\n",
      "    trimmed_controls : dict\n",
      "        Trimmed aircraft controls\n",
      "    \n",
      "    Notes\n",
      "    -----\n",
      "    See section 3.4 in [1] for the algorithm description.\n",
      "    See section 2.5 in [1] for the definition of steady-state flight\n",
      "    condition.\n",
      "    \n",
      "    References\n",
      "    ----------\n",
      "    .. [1] Stevens, BL and Lewis, FL, \"Aircraft Control and Simulation\",\n",
      "        Wiley-lnterscience.\n",
      "\n"
     ]
    }
   ],
   "source": [
    "help(steady_state_trim)"
   ]
  },
  {
   "cell_type": "code",
   "execution_count": 79,
   "metadata": {},
   "outputs": [],
   "source": [
    "from pyfme.models.state.position import EarthPosition"
   ]
  },
  {
   "cell_type": "code",
   "execution_count": 80,
   "metadata": {},
   "outputs": [],
   "source": [
    "pos = EarthPosition(x=0, y=0, height=1000)\n",
    "psi = 0.5  # rad\n",
    "TAS = 45  # m/s\n",
    "controls0 = {'delta_elevator': 0, 'delta_aileron': 0, 'delta_rudder': 0, 'delta_t': 0.5}"
   ]
  },
  {
   "cell_type": "code",
   "execution_count": 81,
   "metadata": {},
   "outputs": [],
   "source": [
    "trimmed_state, trimmed_controls = steady_state_trim(\n",
    "    aircraft,\n",
    "    environment,\n",
    "    pos,\n",
    "    psi,\n",
    "    TAS,\n",
    "    controls0\n",
    ")    "
   ]
  },
  {
   "cell_type": "code",
   "execution_count": 82,
   "metadata": {},
   "outputs": [
    {
     "data": {
      "text/plain": [
       "Aircraft State \n",
       "x_e: 0.00 m, y_e: 0.00 m, z_e: -1000.00 m \n",
       "theta: 0.076 rad, phi: 0.000 rad, psi: 0.500 rad \n",
       "u: 44.87 m/s, v: -0.00 m/s, w: 3.40 m/s \n",
       "P: 0.00 rad/s, Q: 0.00 rad/s, R: 0.00 rad/s \n",
       "u_dot: 0.00 m/s², v_dot: -0.00 m/s², w_dot: 0.00 m/s² \n",
       "P_dot: 0.00 rad/s², Q_dot: -0.00 rad/s², R_dot: -0.00 rad/s² "
      ]
     },
     "execution_count": 82,
     "metadata": {},
     "output_type": "execute_result"
    }
   ],
   "source": [
    "trimmed_state"
   ]
  },
  {
   "cell_type": "code",
   "execution_count": 83,
   "metadata": {},
   "outputs": [
    {
     "data": {
      "text/plain": [
       "{'delta_elevator': -0.048951124635247735,\n",
       " 'delta_aileron': -6.214088862042713e-19,\n",
       " 'delta_rudder': 1.426424517636049e-17,\n",
       " 'delta_t': 0.5779966784524855}"
      ]
     },
     "execution_count": 83,
     "metadata": {},
     "output_type": "execute_result"
    }
   ],
   "source": [
    "trimmed_controls"
   ]
  },
  {
   "cell_type": "markdown",
   "metadata": {},
   "source": [
    "Now, all the necessary elements in order to calculate forces and moments are available "
   ]
  },
  {
   "cell_type": "code",
   "execution_count": 84,
   "metadata": {},
   "outputs": [],
   "source": [
    "# Environment conditions for the current state:\n",
    "environment.update(trimmed_state)\n",
    "\n",
    "# Forces and moments calculation:\n",
    "forces, moments = aircraft.calculate_forces_and_moments(trimmed_state, environment, controls0)"
   ]
  },
  {
   "cell_type": "code",
   "execution_count": 85,
   "metadata": {},
   "outputs": [
    {
     "data": {
      "text/plain": [
       "(array([ 1.95825578e-11, -1.28943684e-16,  5.27506927e-11]),\n",
       " array([ 1.00512841e-13, -1.45503653e-11, -2.65220408e-15]))"
      ]
     },
     "execution_count": 85,
     "metadata": {},
     "output_type": "execute_result"
    }
   ],
   "source": [
    "forces, moments"
   ]
  },
  {
   "cell_type": "markdown",
   "metadata": {},
   "source": [
    "The aircraft is trimmed indeed: the total forces and moments (aerodynamics + gravity + thrust) are zero"
   ]
  },
  {
   "cell_type": "markdown",
   "metadata": {},
   "source": [
    "## Simulation "
   ]
  },
  {
   "cell_type": "markdown",
   "metadata": {},
   "source": [
    "In order to simulate the dynamics of the aircraft under certain inputs in an environment, the user can set up a simulation using a dynamic system:"
   ]
  },
  {
   "cell_type": "code",
   "execution_count": 86,
   "metadata": {},
   "outputs": [],
   "source": [
    "from pyfme.models import EulerFlatEarth"
   ]
  },
  {
   "cell_type": "code",
   "execution_count": 87,
   "metadata": {},
   "outputs": [],
   "source": [
    "system = EulerFlatEarth(t0=0, full_state=trimmed_state)"
   ]
  },
  {
   "cell_type": "markdown",
   "metadata": {},
   "source": [
    "### Constant Controls "
   ]
  },
  {
   "cell_type": "markdown",
   "metadata": {},
   "source": [
    "Let's set the controls for the aircraft during the simulation. As a first step we will set them constant and equal to the trimmed values."
   ]
  },
  {
   "cell_type": "code",
   "execution_count": 88,
   "metadata": {},
   "outputs": [],
   "source": [
    "from pyfme.utils.input_generator import Constant"
   ]
  },
  {
   "cell_type": "code",
   "execution_count": 89,
   "metadata": {},
   "outputs": [],
   "source": [
    "controls = controls = {\n",
    "    'delta_elevator': Constant(trimmed_controls['delta_elevator']),\n",
    "    'delta_aileron': Constant(trimmed_controls['delta_aileron']),\n",
    "    'delta_rudder': Constant(trimmed_controls['delta_rudder']),\n",
    "    'delta_t': Constant(trimmed_controls['delta_t'])\n",
    "}"
   ]
  },
  {
   "cell_type": "code",
   "execution_count": 90,
   "metadata": {},
   "outputs": [],
   "source": [
    "from pyfme.simulator import Simulation"
   ]
  },
  {
   "cell_type": "code",
   "execution_count": 91,
   "metadata": {},
   "outputs": [],
   "source": [
    "sim = Simulation(aircraft, system, environment, controls)"
   ]
  },
  {
   "cell_type": "markdown",
   "metadata": {},
   "source": [
    "Once the simulation is set, the propagation can be performed:"
   ]
  },
  {
   "cell_type": "code",
   "execution_count": 92,
   "metadata": {},
   "outputs": [],
   "source": [
    "results = sim.propagate(10)"
   ]
  },
  {
   "cell_type": "markdown",
   "metadata": {},
   "source": [
    "The results are returned in a DataFrame:"
   ]
  },
  {
   "cell_type": "code",
   "execution_count": 93,
   "metadata": {},
   "outputs": [
    {
     "data": {
      "text/html": [
       "<div>\n",
       "<style scoped>\n",
       "    .dataframe tbody tr th:only-of-type {\n",
       "        vertical-align: middle;\n",
       "    }\n",
       "\n",
       "    .dataframe tbody tr th {\n",
       "        vertical-align: top;\n",
       "    }\n",
       "\n",
       "    .dataframe thead th {\n",
       "        text-align: right;\n",
       "    }\n",
       "</style>\n",
       "<table border=\"1\" class=\"dataframe\">\n",
       "  <thead>\n",
       "    <tr style=\"text-align: right;\">\n",
       "      <th></th>\n",
       "      <th>temperature</th>\n",
       "      <th>pressure</th>\n",
       "      <th>rho</th>\n",
       "      <th>a</th>\n",
       "      <th>Fx</th>\n",
       "      <th>Fy</th>\n",
       "      <th>Fz</th>\n",
       "      <th>Mx</th>\n",
       "      <th>My</th>\n",
       "      <th>Mz</th>\n",
       "      <th>...</th>\n",
       "      <th>phi</th>\n",
       "      <th>u</th>\n",
       "      <th>v</th>\n",
       "      <th>w</th>\n",
       "      <th>v_north</th>\n",
       "      <th>v_east</th>\n",
       "      <th>v_down</th>\n",
       "      <th>p</th>\n",
       "      <th>q</th>\n",
       "      <th>r</th>\n",
       "    </tr>\n",
       "    <tr>\n",
       "      <th>time</th>\n",
       "      <th></th>\n",
       "      <th></th>\n",
       "      <th></th>\n",
       "      <th></th>\n",
       "      <th></th>\n",
       "      <th></th>\n",
       "      <th></th>\n",
       "      <th></th>\n",
       "      <th></th>\n",
       "      <th></th>\n",
       "      <th></th>\n",
       "      <th></th>\n",
       "      <th></th>\n",
       "      <th></th>\n",
       "      <th></th>\n",
       "      <th></th>\n",
       "      <th></th>\n",
       "      <th></th>\n",
       "      <th></th>\n",
       "      <th></th>\n",
       "      <th></th>\n",
       "    </tr>\n",
       "  </thead>\n",
       "  <tbody>\n",
       "    <tr>\n",
       "      <th>0.01</th>\n",
       "      <td>281.65102</td>\n",
       "      <td>89876.273772</td>\n",
       "      <td>1.11166</td>\n",
       "      <td>336.434581</td>\n",
       "      <td>1.974598e-11</td>\n",
       "      <td>-1.984588e-16</td>\n",
       "      <td>5.093170e-11</td>\n",
       "      <td>9.598878e-14</td>\n",
       "      <td>-1.448009e-11</td>\n",
       "      <td>-1.270724e-14</td>\n",
       "      <td>...</td>\n",
       "      <td>3.843644e-21</td>\n",
       "      <td>44.87164</td>\n",
       "      <td>-1.151044e-15</td>\n",
       "      <td>3.396464</td>\n",
       "      <td>39.491215</td>\n",
       "      <td>21.574149</td>\n",
       "      <td>7.018150e-16</td>\n",
       "      <td>7.643738e-19</td>\n",
       "      <td>-7.957137e-17</td>\n",
       "      <td>-2.935054e-20</td>\n",
       "    </tr>\n",
       "    <tr>\n",
       "      <th>0.02</th>\n",
       "      <td>281.65102</td>\n",
       "      <td>89876.273772</td>\n",
       "      <td>1.11166</td>\n",
       "      <td>336.434581</td>\n",
       "      <td>2.005152e-11</td>\n",
       "      <td>-1.931192e-16</td>\n",
       "      <td>4.729372e-11</td>\n",
       "      <td>9.166301e-14</td>\n",
       "      <td>-1.441259e-11</td>\n",
       "      <td>-1.833287e-15</td>\n",
       "      <td>...</td>\n",
       "      <td>1.512671e-20</td>\n",
       "      <td>44.87164</td>\n",
       "      <td>-1.150986e-15</td>\n",
       "      <td>3.396464</td>\n",
       "      <td>39.491215</td>\n",
       "      <td>21.574149</td>\n",
       "      <td>1.144637e-15</td>\n",
       "      <td>1.494119e-18</td>\n",
       "      <td>-1.586511e-16</td>\n",
       "      <td>-5.834034e-20</td>\n",
       "    </tr>\n",
       "    <tr>\n",
       "      <th>0.03</th>\n",
       "      <td>281.65102</td>\n",
       "      <td>89876.273772</td>\n",
       "      <td>1.11166</td>\n",
       "      <td>336.434581</td>\n",
       "      <td>2.005152e-11</td>\n",
       "      <td>-1.049898e-16</td>\n",
       "      <td>4.729372e-11</td>\n",
       "      <td>8.757823e-14</td>\n",
       "      <td>-1.397453e-11</td>\n",
       "      <td>-2.406496e-15</td>\n",
       "      <td>...</td>\n",
       "      <td>3.353311e-20</td>\n",
       "      <td>44.87164</td>\n",
       "      <td>-1.150897e-15</td>\n",
       "      <td>3.396464</td>\n",
       "      <td>39.491215</td>\n",
       "      <td>21.574149</td>\n",
       "      <td>1.587460e-15</td>\n",
       "      <td>2.191271e-18</td>\n",
       "      <td>-2.364209e-16</td>\n",
       "      <td>-6.629858e-20</td>\n",
       "    </tr>\n",
       "    <tr>\n",
       "      <th>0.04</th>\n",
       "      <td>281.65102</td>\n",
       "      <td>89876.273772</td>\n",
       "      <td>1.11166</td>\n",
       "      <td>336.434581</td>\n",
       "      <td>2.018652e-11</td>\n",
       "      <td>4.610138e-17</td>\n",
       "      <td>4.729372e-11</td>\n",
       "      <td>8.363648e-14</td>\n",
       "      <td>-1.392240e-11</td>\n",
       "      <td>-9.682746e-15</td>\n",
       "      <td>...</td>\n",
       "      <td>5.874570e-20</td>\n",
       "      <td>44.87164</td>\n",
       "      <td>-1.150778e-15</td>\n",
       "      <td>3.396464</td>\n",
       "      <td>39.491215</td>\n",
       "      <td>21.574149</td>\n",
       "      <td>2.030282e-15</td>\n",
       "      <td>2.857271e-18</td>\n",
       "      <td>-3.127727e-16</td>\n",
       "      <td>-8.796211e-20</td>\n",
       "    </tr>\n",
       "    <tr>\n",
       "      <th>0.05</th>\n",
       "      <td>281.65102</td>\n",
       "      <td>89876.273772</td>\n",
       "      <td>1.11166</td>\n",
       "      <td>336.434581</td>\n",
       "      <td>2.049205e-11</td>\n",
       "      <td>2.504373e-16</td>\n",
       "      <td>4.365575e-11</td>\n",
       "      <td>7.980428e-14</td>\n",
       "      <td>-1.387184e-11</td>\n",
       "      <td>-1.522760e-14</td>\n",
       "      <td>...</td>\n",
       "      <td>9.044006e-20</td>\n",
       "      <td>44.87164</td>\n",
       "      <td>-1.150620e-15</td>\n",
       "      <td>3.396464</td>\n",
       "      <td>39.491215</td>\n",
       "      <td>21.574149</td>\n",
       "      <td>2.473105e-15</td>\n",
       "      <td>3.493016e-18</td>\n",
       "      <td>-3.888431e-16</td>\n",
       "      <td>-1.339158e-19</td>\n",
       "    </tr>\n",
       "    <tr>\n",
       "      <th>...</th>\n",
       "      <td>...</td>\n",
       "      <td>...</td>\n",
       "      <td>...</td>\n",
       "      <td>...</td>\n",
       "      <td>...</td>\n",
       "      <td>...</td>\n",
       "      <td>...</td>\n",
       "      <td>...</td>\n",
       "      <td>...</td>\n",
       "      <td>...</td>\n",
       "      <td>...</td>\n",
       "      <td>...</td>\n",
       "      <td>...</td>\n",
       "      <td>...</td>\n",
       "      <td>...</td>\n",
       "      <td>...</td>\n",
       "      <td>...</td>\n",
       "      <td>...</td>\n",
       "      <td>...</td>\n",
       "      <td>...</td>\n",
       "      <td>...</td>\n",
       "    </tr>\n",
       "    <tr>\n",
       "      <th>9.96</th>\n",
       "      <td>281.65102</td>\n",
       "      <td>89876.273772</td>\n",
       "      <td>1.11166</td>\n",
       "      <td>336.434581</td>\n",
       "      <td>1.574776e-10</td>\n",
       "      <td>1.147236e-12</td>\n",
       "      <td>8.185452e-11</td>\n",
       "      <td>1.151667e-15</td>\n",
       "      <td>9.801583e-26</td>\n",
       "      <td>7.791452e-15</td>\n",
       "      <td>...</td>\n",
       "      <td>1.220802e-16</td>\n",
       "      <td>44.87164</td>\n",
       "      <td>-2.967742e-16</td>\n",
       "      <td>3.396464</td>\n",
       "      <td>39.491215</td>\n",
       "      <td>21.574149</td>\n",
       "      <td>6.107392e-13</td>\n",
       "      <td>1.404148e-17</td>\n",
       "      <td>-1.979321e-15</td>\n",
       "      <td>2.486331e-17</td>\n",
       "    </tr>\n",
       "    <tr>\n",
       "      <th>9.97</th>\n",
       "      <td>281.65102</td>\n",
       "      <td>89876.273772</td>\n",
       "      <td>1.11166</td>\n",
       "      <td>336.434581</td>\n",
       "      <td>1.575913e-10</td>\n",
       "      <td>1.148834e-12</td>\n",
       "      <td>8.185452e-11</td>\n",
       "      <td>1.144553e-15</td>\n",
       "      <td>9.533047e-26</td>\n",
       "      <td>7.779412e-15</td>\n",
       "      <td>...</td>\n",
       "      <td>1.222395e-16</td>\n",
       "      <td>44.87164</td>\n",
       "      <td>-2.964560e-16</td>\n",
       "      <td>3.396464</td>\n",
       "      <td>39.491215</td>\n",
       "      <td>21.574149</td>\n",
       "      <td>6.111832e-13</td>\n",
       "      <td>1.405041e-17</td>\n",
       "      <td>-1.979321e-15</td>\n",
       "      <td>2.489250e-17</td>\n",
       "    </tr>\n",
       "    <tr>\n",
       "      <th>9.98</th>\n",
       "      <td>281.65102</td>\n",
       "      <td>89876.273772</td>\n",
       "      <td>1.11166</td>\n",
       "      <td>336.434581</td>\n",
       "      <td>1.578186e-10</td>\n",
       "      <td>1.150432e-12</td>\n",
       "      <td>8.185452e-11</td>\n",
       "      <td>1.137405e-15</td>\n",
       "      <td>9.398779e-26</td>\n",
       "      <td>7.767594e-15</td>\n",
       "      <td>...</td>\n",
       "      <td>1.223989e-16</td>\n",
       "      <td>44.87164</td>\n",
       "      <td>-2.961352e-16</td>\n",
       "      <td>3.396464</td>\n",
       "      <td>39.491215</td>\n",
       "      <td>21.574149</td>\n",
       "      <td>6.120714e-13</td>\n",
       "      <td>1.405928e-17</td>\n",
       "      <td>-1.979321e-15</td>\n",
       "      <td>2.492165e-17</td>\n",
       "    </tr>\n",
       "    <tr>\n",
       "      <th>9.99</th>\n",
       "      <td>281.65102</td>\n",
       "      <td>89876.273772</td>\n",
       "      <td>1.11166</td>\n",
       "      <td>336.434581</td>\n",
       "      <td>1.579323e-10</td>\n",
       "      <td>1.152031e-12</td>\n",
       "      <td>8.185452e-11</td>\n",
       "      <td>1.130223e-15</td>\n",
       "      <td>9.130242e-26</td>\n",
       "      <td>7.755999e-15</td>\n",
       "      <td>...</td>\n",
       "      <td>1.225584e-16</td>\n",
       "      <td>44.87164</td>\n",
       "      <td>-2.958119e-16</td>\n",
       "      <td>3.396464</td>\n",
       "      <td>39.491215</td>\n",
       "      <td>21.574149</td>\n",
       "      <td>6.125155e-13</td>\n",
       "      <td>1.406811e-17</td>\n",
       "      <td>-1.979321e-15</td>\n",
       "      <td>2.495075e-17</td>\n",
       "    </tr>\n",
       "    <tr>\n",
       "      <th>10.00</th>\n",
       "      <td>281.65102</td>\n",
       "      <td>89876.273772</td>\n",
       "      <td>1.11166</td>\n",
       "      <td>336.434581</td>\n",
       "      <td>1.580460e-10</td>\n",
       "      <td>1.153631e-12</td>\n",
       "      <td>8.185452e-11</td>\n",
       "      <td>1.123008e-15</td>\n",
       "      <td>8.995974e-26</td>\n",
       "      <td>7.744627e-15</td>\n",
       "      <td>...</td>\n",
       "      <td>1.227180e-16</td>\n",
       "      <td>44.87164</td>\n",
       "      <td>-2.954860e-16</td>\n",
       "      <td>3.396464</td>\n",
       "      <td>39.491215</td>\n",
       "      <td>21.574149</td>\n",
       "      <td>6.129596e-13</td>\n",
       "      <td>1.407687e-17</td>\n",
       "      <td>-1.979321e-15</td>\n",
       "      <td>2.497981e-17</td>\n",
       "    </tr>\n",
       "  </tbody>\n",
       "</table>\n",
       "<p>1000 rows × 35 columns</p>\n",
       "</div>"
      ],
      "text/plain": [
       "       temperature      pressure      rho           a            Fx  \\\n",
       "time                                                                  \n",
       "0.01     281.65102  89876.273772  1.11166  336.434581  1.974598e-11   \n",
       "0.02     281.65102  89876.273772  1.11166  336.434581  2.005152e-11   \n",
       "0.03     281.65102  89876.273772  1.11166  336.434581  2.005152e-11   \n",
       "0.04     281.65102  89876.273772  1.11166  336.434581  2.018652e-11   \n",
       "0.05     281.65102  89876.273772  1.11166  336.434581  2.049205e-11   \n",
       "...            ...           ...      ...         ...           ...   \n",
       "9.96     281.65102  89876.273772  1.11166  336.434581  1.574776e-10   \n",
       "9.97     281.65102  89876.273772  1.11166  336.434581  1.575913e-10   \n",
       "9.98     281.65102  89876.273772  1.11166  336.434581  1.578186e-10   \n",
       "9.99     281.65102  89876.273772  1.11166  336.434581  1.579323e-10   \n",
       "10.00    281.65102  89876.273772  1.11166  336.434581  1.580460e-10   \n",
       "\n",
       "                 Fy            Fz            Mx            My            Mz  \\\n",
       "time                                                                          \n",
       "0.01  -1.984588e-16  5.093170e-11  9.598878e-14 -1.448009e-11 -1.270724e-14   \n",
       "0.02  -1.931192e-16  4.729372e-11  9.166301e-14 -1.441259e-11 -1.833287e-15   \n",
       "0.03  -1.049898e-16  4.729372e-11  8.757823e-14 -1.397453e-11 -2.406496e-15   \n",
       "0.04   4.610138e-17  4.729372e-11  8.363648e-14 -1.392240e-11 -9.682746e-15   \n",
       "0.05   2.504373e-16  4.365575e-11  7.980428e-14 -1.387184e-11 -1.522760e-14   \n",
       "...             ...           ...           ...           ...           ...   \n",
       "9.96   1.147236e-12  8.185452e-11  1.151667e-15  9.801583e-26  7.791452e-15   \n",
       "9.97   1.148834e-12  8.185452e-11  1.144553e-15  9.533047e-26  7.779412e-15   \n",
       "9.98   1.150432e-12  8.185452e-11  1.137405e-15  9.398779e-26  7.767594e-15   \n",
       "9.99   1.152031e-12  8.185452e-11  1.130223e-15  9.130242e-26  7.755999e-15   \n",
       "10.00  1.153631e-12  8.185452e-11  1.123008e-15  8.995974e-26  7.744627e-15   \n",
       "\n",
       "       ...           phi         u             v         w    v_north  \\\n",
       "time   ...                                                              \n",
       "0.01   ...  3.843644e-21  44.87164 -1.151044e-15  3.396464  39.491215   \n",
       "0.02   ...  1.512671e-20  44.87164 -1.150986e-15  3.396464  39.491215   \n",
       "0.03   ...  3.353311e-20  44.87164 -1.150897e-15  3.396464  39.491215   \n",
       "0.04   ...  5.874570e-20  44.87164 -1.150778e-15  3.396464  39.491215   \n",
       "0.05   ...  9.044006e-20  44.87164 -1.150620e-15  3.396464  39.491215   \n",
       "...    ...           ...       ...           ...       ...        ...   \n",
       "9.96   ...  1.220802e-16  44.87164 -2.967742e-16  3.396464  39.491215   \n",
       "9.97   ...  1.222395e-16  44.87164 -2.964560e-16  3.396464  39.491215   \n",
       "9.98   ...  1.223989e-16  44.87164 -2.961352e-16  3.396464  39.491215   \n",
       "9.99   ...  1.225584e-16  44.87164 -2.958119e-16  3.396464  39.491215   \n",
       "10.00  ...  1.227180e-16  44.87164 -2.954860e-16  3.396464  39.491215   \n",
       "\n",
       "          v_east        v_down             p             q             r  \n",
       "time                                                                      \n",
       "0.01   21.574149  7.018150e-16  7.643738e-19 -7.957137e-17 -2.935054e-20  \n",
       "0.02   21.574149  1.144637e-15  1.494119e-18 -1.586511e-16 -5.834034e-20  \n",
       "0.03   21.574149  1.587460e-15  2.191271e-18 -2.364209e-16 -6.629858e-20  \n",
       "0.04   21.574149  2.030282e-15  2.857271e-18 -3.127727e-16 -8.796211e-20  \n",
       "0.05   21.574149  2.473105e-15  3.493016e-18 -3.888431e-16 -1.339158e-19  \n",
       "...          ...           ...           ...           ...           ...  \n",
       "9.96   21.574149  6.107392e-13  1.404148e-17 -1.979321e-15  2.486331e-17  \n",
       "9.97   21.574149  6.111832e-13  1.405041e-17 -1.979321e-15  2.489250e-17  \n",
       "9.98   21.574149  6.120714e-13  1.405928e-17 -1.979321e-15  2.492165e-17  \n",
       "9.99   21.574149  6.125155e-13  1.406811e-17 -1.979321e-15  2.495075e-17  \n",
       "10.00  21.574149  6.129596e-13  1.407687e-17 -1.979321e-15  2.497981e-17  \n",
       "\n",
       "[1000 rows x 35 columns]"
      ]
     },
     "execution_count": 93,
     "metadata": {},
     "output_type": "execute_result"
    }
   ],
   "source": [
    "results"
   ]
  },
  {
   "cell_type": "code",
   "execution_count": 94,
   "metadata": {},
   "outputs": [],
   "source": [
    "%matplotlib inline"
   ]
  },
  {
   "cell_type": "code",
   "execution_count": 95,
   "metadata": {},
   "outputs": [],
   "source": [
    "kwargs = {'marker': '.',\n",
    "          'subplots': True,\n",
    "          'sharex': True,\n",
    "          'figsize': (12, 6)}"
   ]
  },
  {
   "cell_type": "code",
   "execution_count": 96,
   "metadata": {},
   "outputs": [
    {
     "data": {
      "image/png": "[encoded data removed]",
      "text/plain": [
       "<Figure size 1200x600 with 3 Axes>"
      ]
     },
     "metadata": {},
     "output_type": "display_data"
    }
   ],
   "source": [
    "ax = results.plot(y=['x_earth', 'y_earth', 'height'], **kwargs);"
   ]
  },
  {
   "cell_type": "code",
   "execution_count": 97,
   "metadata": {},
   "outputs": [
    {
     "data": {
      "text/plain": [
       "[<matplotlib.lines.Line2D at 0x7fbac23464c0>]"
      ]
     },
     "execution_count": 97,
     "metadata": {},
     "output_type": "execute_result"
    }
   ],
   "source": [
    "ax[2].plot([0, 1], [1010, 1010])\n",
    "# import matplotlib.pyplot as plt\n",
    "# plt.show()"
   ]
  },
  {
   "cell_type": "code",
   "execution_count": 98,
   "metadata": {},
   "outputs": [
    {
     "data": {
      "image/png": "[encoded data removed]",
      "text/plain": [
       "<Figure size 1200x600 with 3 Axes>"
      ]
     },
     "metadata": {},
     "output_type": "display_data"
    }
   ],
   "source": [
    "results.plot(y=['psi', 'theta', 'phi'], **kwargs);"
   ]
  },
  {
   "cell_type": "code",
   "execution_count": null,
   "metadata": {},
   "outputs": [],
   "source": [
    "results.plot(y=['v_north', 'v_east', 'v_down'], **kwargs);"
   ]
  },
  {
   "cell_type": "code",
   "execution_count": null,
   "metadata": {},
   "outputs": [],
   "source": [
    "results.plot(y=['p', 'q', 'r'], **kwargs);"
   ]
  },
  {
   "cell_type": "code",
   "execution_count": null,
   "metadata": {},
   "outputs": [],
   "source": [
    "results.plot(y=['alpha', 'beta', 'TAS'], **kwargs);"
   ]
  },
  {
   "cell_type": "code",
   "execution_count": null,
   "metadata": {},
   "outputs": [],
   "source": [
    "results.plot(y=['Fx', 'Fy', 'Fz'], **kwargs);"
   ]
  },
  {
   "cell_type": "code",
   "execution_count": null,
   "metadata": {},
   "outputs": [],
   "source": [
    "results.plot(y=['Mx', 'My', 'Mz'], **kwargs);"
   ]
  },
  {
   "cell_type": "code",
   "execution_count": null,
   "metadata": {},
   "outputs": [],
   "source": [
    "results.plot(y=['elevator', 'aileron', 'rudder', 'thrust'], **kwargs);"
   ]
  },
  {
   "cell_type": "markdown",
   "metadata": {},
   "source": [
    "### Doublet "
   ]
  },
  {
   "cell_type": "markdown",
   "metadata": {},
   "source": [
    "Let's set the controls for the aircraft during the simulation. As a first step we will set them constant and equal to the trimmed values."
   ]
  },
  {
   "cell_type": "code",
   "execution_count": null,
   "metadata": {},
   "outputs": [],
   "source": [
    "from pyfme.utils.input_generator import Doublet"
   ]
  },
  {
   "cell_type": "code",
   "execution_count": null,
   "metadata": {},
   "outputs": [],
   "source": [
    "de0 = trimmed_controls['delta_elevator']"
   ]
  },
  {
   "cell_type": "code",
   "execution_count": null,
   "metadata": {},
   "outputs": [],
   "source": [
    "controls = controls = {\n",
    "    'delta_elevator': Doublet(t_init=2, T=1, A=0.1, offset=de0),\n",
    "    'delta_aileron': Constant(trimmed_controls['delta_aileron']),\n",
    "    'delta_rudder': Constant(trimmed_controls['delta_rudder']),\n",
    "    'delta_t': Constant(trimmed_controls['delta_t'])\n",
    "}"
   ]
  },
  {
   "cell_type": "code",
   "execution_count": null,
   "metadata": {},
   "outputs": [],
   "source": [
    "sim = Simulation(aircraft, system, environment, controls)"
   ]
  },
  {
   "cell_type": "markdown",
   "metadata": {},
   "source": [
    "Once the simulation is set, the propagation can be performed:"
   ]
  },
  {
   "cell_type": "code",
   "execution_count": null,
   "metadata": {},
   "outputs": [],
   "source": [
    "results = sim.propagate(90)"
   ]
  },
  {
   "cell_type": "code",
   "execution_count": null,
   "metadata": {},
   "outputs": [],
   "source": [
    "results.plot(y=['x_earth', 'y_earth', 'height'], **kwargs);"
   ]
  },
  {
   "cell_type": "code",
   "execution_count": null,
   "metadata": {},
   "outputs": [],
   "source": [
    "results.plot(y=['psi', 'theta', 'phi'], **kwargs);"
   ]
  },
  {
   "cell_type": "code",
   "execution_count": null,
   "metadata": {},
   "outputs": [],
   "source": [
    "results.plot(y=['v_north', 'v_east', 'v_down'], **kwargs);"
   ]
  },
  {
   "cell_type": "code",
   "execution_count": null,
   "metadata": {},
   "outputs": [],
   "source": [
    "results.plot(y=['p', 'q', 'r'], **kwargs);"
   ]
  },
  {
   "cell_type": "code",
   "execution_count": null,
   "metadata": {},
   "outputs": [],
   "source": [
    "results.plot(y=['alpha', 'beta', 'TAS'], **kwargs);"
   ]
  },
  {
   "cell_type": "code",
   "execution_count": null,
   "metadata": {},
   "outputs": [],
   "source": [
    "results.plot(y=['Fx', 'Fy', 'Fz'], **kwargs);"
   ]
  },
  {
   "cell_type": "code",
   "execution_count": null,
   "metadata": {},
   "outputs": [],
   "source": [
    "results.plot(y=['Mx', 'My', 'Mz'], **kwargs);"
   ]
  },
  {
   "cell_type": "code",
   "execution_count": null,
   "metadata": {},
   "outputs": [],
   "source": [
    "results.plot(y=['elevator', 'aileron', 'rudder', 'thrust'], **kwargs);"
   ]
  },
  {
   "cell_type": "markdown",
   "metadata": {},
   "source": [
    "## Propagating only one time step"
   ]
  },
  {
   "cell_type": "code",
   "execution_count": null,
   "metadata": {},
   "outputs": [],
   "source": [
    "dt = 0.05  # seconds\n",
    "sim = Simulation(aircraft, system, environment, controls, dt)"
   ]
  },
  {
   "cell_type": "code",
   "execution_count": null,
   "metadata": {},
   "outputs": [],
   "source": [
    "results = sim.propagate(0.5)\n",
    "results"
   ]
  },
  {
   "cell_type": "markdown",
   "metadata": {},
   "source": [
    "We can propagate for one time step even once the simulation has been propagated before:"
   ]
  },
  {
   "cell_type": "code",
   "execution_count": null,
   "metadata": {},
   "outputs": [],
   "source": [
    "results = sim.propagate(sim.time+dt)\n",
    "results"
   ]
  },
  {
   "cell_type": "markdown",
   "metadata": {},
   "source": [
    "Notice that `results` will include the previous timesteps as well as the last one. To get just the last one one can use pandas `loc` or `iloc`:"
   ]
  },
  {
   "cell_type": "code",
   "execution_count": null,
   "metadata": {},
   "outputs": [],
   "source": [
    "results.iloc[-1]  # last time step"
   ]
  },
  {
   "cell_type": "code",
   "execution_count": null,
   "metadata": {},
   "outputs": [],
   "source": [
    "results.loc[sim.time]  # results for current simulation time"
   ]
  }
 ],
 "metadata": {
  "kernelspec": {
   "display_name": "Python 3",
   "language": "python",
   "name": "python3"
  },
  "language_info": {
   "codemirror_mode": {
    "name": "ipython",
    "version": 3
   },
   "file_extension": ".py",
   "mimetype": "text/x-python",
   "name": "python",
   "nbconvert_exporter": "python",
   "pygments_lexer": "ipython3",
   "version": "3.8.16"
  }
 },
 "nbformat": 4,
 "nbformat_minor": 2
}
